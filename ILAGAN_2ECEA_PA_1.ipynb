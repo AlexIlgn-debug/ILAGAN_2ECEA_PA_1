{
 "cells": [
  {
   "cell_type": "markdown",
   "id": "071ec747-0ba9-44dc-a726-32fc095a2f2f",
   "metadata": {},
   "source": [
    "### Ilagan, Alexander Jacob A. \n",
    "#### 2ECE-A"
   ]
  },
  {
   "cell_type": "markdown",
   "id": "05f6e571-ffea-4c15-8c6d-5714788eceda",
   "metadata": {},
   "source": [
    "## Alphabet_Soup"
   ]
  },
  {
   "cell_type": "code",
   "execution_count": 16,
   "id": "33084b50-be8c-49b7-986b-daa5457790c7",
   "metadata": {},
   "outputs": [
    {
     "name": "stdout",
     "output_type": "stream",
     "text": [
      "ehllo\n",
      "acehkr\n",
      "Aacfiilrt\n",
      "Acimot\n"
     ]
    }
   ],
   "source": [
    "def alphabet_soup(text):\n",
    "    return '' .join(sorted(text))\n",
    "\n",
    "print(alphabet_soup(\"hello\"))\n",
    "print(alphabet_soup(\"hacker\"))\n",
    "print(alphabet_soup(\"Artifical\"))\n",
    "print(alphabet_soup(\"Atomic\"))"
   ]
  },
  {
   "cell_type": "markdown",
   "id": "57c1c958-09c0-4961-adca-a38bac4decfd",
   "metadata": {},
   "source": [
    "## Emoticon Problem"
   ]
  },
  {
   "cell_type": "code",
   "execution_count": 14,
   "id": "2f1c2732-89cc-4ca7-a62c-f56a2d606c30",
   "metadata": {},
   "outputs": [
    {
     "name": "stdout",
     "output_type": "stream",
     "text": [
      "Make me :)\n",
      "I am >:(\n",
      "You make me :D\n",
      "Why are you :(( ?\n"
     ]
    }
   ],
   "source": [
    "def emotify(face):\n",
    "    face = face.replace(\"smile\", \":)\")\n",
    "    face = face.replace(\"grin\", \":D\")\n",
    "    face = face.replace(\"sad\", \":((\")\n",
    "    face = face.replace(\"mad\", \">:(\")\n",
    "    return face\n",
    "\n",
    "    \n",
    "print(emotify(\"Make me smile\"))\n",
    "print(emotify(\"I am mad\"))\n",
    "print(emotify(\"You make me grin\"))\n",
    "print(emotify(\"Why are you sad ?\"))"
   ]
  },
  {
   "cell_type": "markdown",
   "id": "40637157-0bcb-4959-8f75-e465870d0254",
   "metadata": {},
   "source": [
    "## Unpacking List Problem"
   ]
  },
  {
   "cell_type": "code",
   "execution_count": 20,
   "id": "6dc514d3-352f-4664-b6d4-9ac8b5037b2d",
   "metadata": {},
   "outputs": [
    {
     "name": "stdout",
     "output_type": "stream",
     "text": [
      "1\n",
      "[2, 3, 4, 5]\n",
      "6\n",
      "red\n",
      "['orange', 'yellow', 'green', 'blue', 'purple', 'black']\n",
      "white\n"
     ]
    }
   ],
   "source": [
    "list = [1, 2, 3, 4, 5, 6]\n",
    "first = print(list[0])\n",
    "middle = print(list[1:-1])\n",
    "last = print(list[-1])\n",
    "\n",
    "color = [\"red\", \"orange\", \"yellow\", \"green\", \"blue\", \"purple\", \"black\", \"white\"]\n",
    "first = print(color[0])\n",
    "middle = print(color[1:-1])\n",
    "last = print(color[-1])"
   ]
  },
  {
   "cell_type": "code",
   "execution_count": null,
   "id": "7b097b8c-ca70-42ea-98ca-599e46f8013f",
   "metadata": {},
   "outputs": [],
   "source": []
  }
 ],
 "metadata": {
  "kernelspec": {
   "display_name": "Python [conda env:base] *",
   "language": "python",
   "name": "conda-base-py"
  },
  "language_info": {
   "codemirror_mode": {
    "name": "ipython",
    "version": 3
   },
   "file_extension": ".py",
   "mimetype": "text/x-python",
   "name": "python",
   "nbconvert_exporter": "python",
   "pygments_lexer": "ipython3",
   "version": "3.13.5"
  }
 },
 "nbformat": 4,
 "nbformat_minor": 5
}
